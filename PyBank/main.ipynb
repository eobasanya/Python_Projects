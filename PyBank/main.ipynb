{
 "cells": [
  {
   "cell_type": "code",
   "execution_count": 1,
   "id": "8482d089-f9bb-4e7b-8e39-09abbb911362",
   "metadata": {},
   "outputs": [],
   "source": [
    "from pathlib import Path \n",
    "import csv\n",
    "\n",
    "#print(f\"Current Working Directory: {Path.cwd()}\")\n",
    "file = Path('Resources/budget_data.csv')\n",
    "\n",
    "#initialize variables\n",
    "profits_losses = 0\n",
    "data = 0\n",
    "total_months = 0 \n",
    "total_profits = 0\n",
    "avg_change = 0\n",
    "max_value = None\n",
    "min_value = None\n",
    "total_months = 0\n",
    "daily_changes = 0\n",
    "total_daily_changes = 0\n",
    "average_daily_change = 0\n",
    "daily_changes_array = []\n",
    "daily_changes_months = []\n",
    "\n"
   ]
  },
  {
   "cell_type": "code",
   "execution_count": 2,
   "id": "ae3e8bd9-3acc-466a-99f9-dcb2782f2fba",
   "metadata": {},
   "outputs": [
    {
     "name": "stdout",
     "output_type": "stream",
     "text": [
      "Total Months: 86\n",
      "Total Profits: $38382578\n",
      "Average Change: $-2315.12\n"
     ]
    }
   ],
   "source": [
    "#open csv file\n",
    "with open (file, \"r\") as file:\n",
    "    csvreader = csv.reader(file, delimiter=',')\n",
    "    next(file)\n",
    "    i = 0\n",
    "    #change_values = 0\n",
    "    daily_profits_tracker = ['0']\n",
    "    for data in csvreader:\n",
    "        #count total months      \n",
    "        total_months += 1\n",
    "        \n",
    "        #count total profits\n",
    "        profits_losses = int(data[1])\n",
    "        total_profits += profits_losses\n",
    "        \n",
    "        \n",
    "        #Grab change values\n",
    "        change_values = data[1]\n",
    "         \n",
    "        i += 1\n",
    "    \n",
    "        \n",
    "         # Track daily profits and use tracker to obtain any day previous to current date using index. -1 is current day, -2 is previous day\n",
    "        daily_profits_tracker.append(data[1])\n",
    "        previous_day_profits = daily_profits_tracker[-2]\n",
    "        if i > 1 and i < 87:\n",
    "            \n",
    "            daily_changes = ((int(change_values) - int(previous_day_profits)))\n",
    "            total_daily_changes += daily_changes\n",
    "            \n",
    "            #print(\"Line :\" + str(i) + '' + str(data) + str(change_values) + ' ' + str(previous_day_profits) +  ' ' + \"Daily changes :\" + str(daily_changes) +  ' ' + \"Total Daily changes :\" + str(total_daily_changes))\n",
    "            daily_changes_array.append(daily_changes)\n",
    "            daily_changes_months.append(data[0])\n",
    "            \n",
    "    average_daily_change = round((total_daily_changes/ (i-1)),2)\n",
    "\n",
    "    \n",
    "    \n",
    "\n",
    "print(f\"Total Months: {total_months}\")\n",
    "print(f\"Total Profits: ${total_profits}\")\n",
    "print(f\"Average Change: ${average_daily_change}\")        \n",
    "        "
   ]
  },
  {
   "cell_type": "code",
   "execution_count": 3,
   "id": "112d4570-5f68-4fb5-b511-06e2636ee4c3",
   "metadata": {},
   "outputs": [
    {
     "name": "stdout",
     "output_type": "stream",
     "text": [
      "Greatest Increase in Profits: Feb-2012 $1926159\n",
      "Greatest Decrease in Profits: Sep-2013 $-2196167\n"
     ]
    }
   ],
   "source": [
    "#Obtain greatest increase and greatest decrease in profits\n",
    "#print(f\"Daily Changes Array: {daily_changes_array}\")\n",
    "greatest_increase = max(daily_changes_array)\n",
    "greatest_decrease = min(daily_changes_array)\n",
    "max_index = daily_changes_array.index(greatest_increase)\n",
    "min_index = daily_changes_array.index(greatest_decrease)\n",
    "max_index_month = daily_changes_months[max_index]\n",
    "min_index_month = daily_changes_months[min_index]\n",
    "#print ( \"Daily changes :\" + str(daily_changes_array) +  ' ' + \" Daily Changes Months :\" + str(daily_changes_months))\n",
    "print(f\"Greatest Increase in Profits: {max_index_month} ${greatest_increase}\")\n",
    "print(f\"Greatest Decrease in Profits: {min_index_month} ${greatest_decrease}\")\n",
    "\n",
    "  "
   ]
  },
  {
   "cell_type": "code",
   "execution_count": 4,
   "id": "f3042649-5b97-4eb8-aaea-5da21e3a1712",
   "metadata": {},
   "outputs": [
    {
     "name": "stdout",
     "output_type": "stream",
     "text": [
      "Financial Analysis\n",
      "--------------------------------\n",
      "Total Months: 86\n",
      "Total Profits: $38382578\n",
      "Average Change: $-2315.12\n",
      "Greatest Increase in Profits: Feb-2012 $1926159\n",
      "Greatest Decrease in Profits: Sep-2013 $-2196167\n"
     ]
    }
   ],
   "source": [
    "#Print all\n",
    "  \n",
    "\n",
    "print(\"Financial Analysis\")\n",
    "print(\"--------------------------------\")\n",
    "print(f\"Total Months: {total_months}\")\n",
    "print(f\"Total Profits: ${total_profits}\")\n",
    "print(f\"Average Change: ${average_daily_change}\")        \n",
    "print(f\"Greatest Increase in Profits: {max_index_month} ${greatest_increase}\")\n",
    "print(f\"Greatest Decrease in Profits: {min_index_month} ${greatest_decrease}\")"
   ]
  },
  {
   "cell_type": "code",
   "execution_count": null,
   "id": "9109b105-5133-4e78-be6e-bde6eeb1bfa8",
   "metadata": {},
   "outputs": [],
   "source": []
  }
 ],
 "metadata": {
  "kernelspec": {
   "display_name": "Python 3 (ipykernel)",
   "language": "python",
   "name": "python3"
  },
  "language_info": {
   "codemirror_mode": {
    "name": "ipython",
    "version": 3
   },
   "file_extension": ".py",
   "mimetype": "text/x-python",
   "name": "python",
   "nbconvert_exporter": "python",
   "pygments_lexer": "ipython3",
   "version": "3.9.7"
  }
 },
 "nbformat": 4,
 "nbformat_minor": 5
}
